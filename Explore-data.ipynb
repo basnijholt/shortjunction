{
 "cells": [
  {
   "cell_type": "markdown",
   "metadata": {},
   "source": [
    "# Explore the data files\n",
    "Download data at: http://doi.org/10.4121/uuid:274bdd06-14a5-45c3-bc86-87d400082e34"
   ]
  },
  {
   "cell_type": "code",
   "execution_count": null,
   "metadata": {
    "collapsed": false
   },
   "outputs": [],
   "source": [
    "import holoviews as hv\n",
    "from shortjunction import SimpleNamespace\n",
    "import warnings\n",
    "hv.notebook_extension()\n",
    "warnings.simplefilter(\"ignore\")\n",
    "%output dpi=150"
   ]
  },
  {
   "cell_type": "code",
   "execution_count": null,
   "metadata": {
    "collapsed": false
   },
   "outputs": [],
   "source": [
    "import os\n",
    "files = sorted(os.listdir('data/'))\n",
    "print('All data files:')\n",
    "files"
   ]
  },
  {
   "cell_type": "markdown",
   "metadata": {},
   "source": [
    "# Decay lengths"
   ]
  },
  {
   "cell_type": "code",
   "execution_count": null,
   "metadata": {
    "collapsed": false
   },
   "outputs": [],
   "source": [
    "%%opts Image (clims=(0,2000))\n",
    "hv.Store.load(open('data/decay_length_2d.h', 'rb'))"
   ]
  },
  {
   "cell_type": "code",
   "execution_count": null,
   "metadata": {
    "collapsed": false
   },
   "outputs": [],
   "source": [
    "%%opts Image (clims=(0,2000))\n",
    "(hv.Store.load(open('data/decay_length_3d_no_orbital.h', 'rb')) +\n",
    " hv.Store.load(open('data/decay_length_3d_with_orbital.h', 'rb')))"
   ]
  },
  {
   "cell_type": "markdown",
   "metadata": {},
   "source": [
    "# Phase diagrams"
   ]
  },
  {
   "cell_type": "markdown",
   "metadata": {},
   "source": [
    "## 100 mn x 100 nm with $\\mu_\\textrm{sc} = 8\\; \\textrm{meV} $"
   ]
  },
  {
   "cell_type": "code",
   "execution_count": null,
   "metadata": {
    "collapsed": false
   },
   "outputs": [],
   "source": [
    "(hv.Store.load(open('data/phase_diagram_3d_no_orbital_100x100.h', 'rb')) +\n",
    "hv.Store.load(open('data/phase_diagram_3d_with_orbital_100x100.h', 'rb')))"
   ]
  },
  {
   "cell_type": "markdown",
   "metadata": {},
   "source": [
    "## 100 nm x 100 nm with $\\mu_\\textrm{sc} = \\mu_\\textrm{sm}$"
   ]
  },
  {
   "cell_type": "code",
   "execution_count": null,
   "metadata": {
    "collapsed": false
   },
   "outputs": [],
   "source": [
    "(hv.Store.load(open('data/phase_diagram_3d_no_orbital_100x100_mu_sc_eq_mu_sm.h', 'rb')) +\n",
    "hv.Store.load(open('data/phase_diagram_3d_with_orbital_100x100_mu_sc_eq_mu_sm.h', 'rb')))"
   ]
  },
  {
   "cell_type": "markdown",
   "metadata": {},
   "source": [
    "## 120 nm x 120 nm with $\\mu_\\textrm{sc} = 8\\; \\textrm{meV} $"
   ]
  },
  {
   "cell_type": "code",
   "execution_count": null,
   "metadata": {
    "collapsed": false
   },
   "outputs": [],
   "source": [
    "(hv.Store.load(open('data/phase_diagram_3d_no_orbital_120x120.h', 'rb')) +\n",
    "hv.Store.load(open('data/phase_diagram_3d_with_orbital_120x120.h', 'rb')))"
   ]
  },
  {
   "cell_type": "markdown",
   "metadata": {},
   "source": [
    "## 120 nm x 40 nm and 40 nm x 120 nm with $\\mu_\\textrm{sc} = 8\\; \\textrm{meV} $"
   ]
  },
  {
   "cell_type": "code",
   "execution_count": null,
   "metadata": {
    "collapsed": false
   },
   "outputs": [],
   "source": [
    "(hv.Store.load(open('data/phase_diagram_3d_with_orbital_120x40.h', 'rb')) +\n",
    "hv.Store.load(open('data/phase_diagram_3d_with_orbital_40x120.h', 'rb')))"
   ]
  },
  {
   "cell_type": "markdown",
   "metadata": {},
   "source": [
    "## 120 nm x 80 nm and 80 nm x 120 nm with $\\mu_\\textrm{sc} = 8\\; \\textrm{meV} $"
   ]
  },
  {
   "cell_type": "code",
   "execution_count": null,
   "metadata": {
    "collapsed": false
   },
   "outputs": [],
   "source": [
    "(hv.Store.load(open('data/phase_diagram_3d_with_orbital_120x80.h', 'rb')) + \n",
    "hv.Store.load(open('data/phase_diagram_3d_with_orbital_80x120.h', 'rb')))"
   ]
  }
 ],
 "metadata": {
  "kernelspec": {
   "display_name": "Python [conda env:python3]",
   "language": "python",
   "name": "conda-env-python3-py"
  },
  "language_info": {
   "codemirror_mode": {
    "name": "ipython",
    "version": 3
   },
   "file_extension": ".py",
   "mimetype": "text/x-python",
   "name": "python",
   "nbconvert_exporter": "python",
   "pygments_lexer": "ipython3",
   "version": "3.5.2"
  }
 },
 "nbformat": 4,
 "nbformat_minor": 0
}
