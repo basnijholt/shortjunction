{
 "cells": [
  {
   "cell_type": "markdown",
   "metadata": {},
   "source": [
    "# Plot paper figures\n",
    "Download data at: http://doi.org/10.4121/uuid:274bdd06-14a5-45c3-bc86-87d400082e34"
   ]
  },
  {
   "cell_type": "code",
   "execution_count": null,
   "metadata": {
    "collapsed": false
   },
   "outputs": [],
   "source": [
    "import holoviews as hv\n",
    "import matplotlib.pylab as plt\n",
    "import matplotlib.patches as patches\n",
    "import numpy as np\n",
    "from shortjunction import constants, SimpleNamespace\n",
    "hv.notebook_extension()\n",
    "%matplotlib inline\n",
    "%config InlineBackend.figure_format = 'svg'\n",
    "\n",
    "golden_mean = (np.sqrt(5) - 1) / 2 # Aesthetic ratio\n",
    "fig_width_pt = 246.0 # Columnwidth\n",
    "inches_per_pt = 1.0 / 72.27 # Convert pt to inches\n",
    "fig_width = fig_width_pt * inches_per_pt\n",
    "fig_height = fig_width * golden_mean # height in inches\n",
    "fig_size = [fig_width, fig_height]\n",
    "\n",
    "params = {\n",
    "          'backend': 'ps',\n",
    "          'axes.labelsize': 10,\n",
    "          'font.size': 10,\n",
    "          'legend.fontsize': 8,\n",
    "          'xtick.labelsize': 8,\n",
    "          'ytick.labelsize': 8,\n",
    "          'text.usetex': True,\n",
    "          'figure.figsize': fig_size,\n",
    "          'font.family': 'serif',\n",
    "          'font.serif': 'Computer Modern Roman',\n",
    "          'legend.frameon': True,\n",
    "          'savefig.dpi': 1000\n",
    "         }\n",
    "\n",
    "plt.rcParams.update(params)\n",
    "plt.rc('text.latex', preamble=[r'\\usepackage{color}', r'\\usepackage{bm}'])"
   ]
  },
  {
   "cell_type": "code",
   "execution_count": null,
   "metadata": {
    "collapsed": false
   },
   "outputs": [],
   "source": [
    "%output fig='svg' size=100 dpi=600\n",
    "%opts Path [aspect='square'] (lw=0.5) Image [aspect='square' colorbar=True] (cmap='inferno_r')\n",
    "img = hv.Store.load(open('data/decay_length_2d.h', 'rb'))\n",
    "img"
   ]
  },
  {
   "cell_type": "code",
   "execution_count": null,
   "metadata": {
    "collapsed": false
   },
   "outputs": [],
   "source": [
    "fig = plt.figure(figsize=(fig_width, fig_height))\n",
    "ax = fig.add_axes([0.125,0.2,(0.95-0.125),(0.95-0.2)])\n",
    "B_min, mu_min, B_max, mu_max = img.bounds.lbrt()\n",
    "extent = [B_min, B_max / constants.unit_B, mu_min / constants.delta_2d, mu_max / constants.delta_2d]\n",
    "cax = ax.imshow(img.data / 100, vmin=0, vmax=30, extent=extent, cmap='inferno_r', aspect='auto')\n",
    "ax.set_yticks([2, 4, 6, 8])\n",
    "cax.set_clim(0, 30)\n",
    "ax.set_ylabel('Chemical potential $\\mu$ [$\\delta$]')\n",
    "ax.set_xlabel('Magnetic field $B$ [$2\\delta/g\\mu_B$]')\n",
    "cbar_ticks = [0, 5, 10, 15, 20, 25, 30, 35]\n",
    "cbar = fig.colorbar(cax, ticks=cbar_ticks, extend='max', label=r'$\\xi$ [W]')\n",
    "cbar.ax.set_yticklabels(cbar_ticks)\n",
    "fig.savefig('decay_length_2d.pdf', format='pdf', dpi=1000)\n",
    "plt.show()"
   ]
  },
  {
   "cell_type": "markdown",
   "metadata": {},
   "source": [
    "# 3D phase diagram with bandgaps"
   ]
  },
  {
   "cell_type": "code",
   "execution_count": null,
   "metadata": {
    "collapsed": false
   },
   "outputs": [],
   "source": [
    "phase_diagram_3d_no_orbital_100x100 = hv.Store.load(open('data/phase_diagram_3d_no_orbital_100x100.h', 'rb'))\n",
    "phase_diagram_3d_no_orbital_120x120 = hv.Store.load(open('data/phase_diagram_3d_no_orbital_120x120.h', 'rb'))\n",
    "phase_diagram_3d_with_orbital_100x100 = hv.Store.load(open('data/phase_diagram_3d_with_orbital_100x100.h', 'rb'))\n",
    "phase_diagram_3d_with_orbital_120x120 = hv.Store.load(open('data/phase_diagram_3d_with_orbital_120x120.h', 'rb'))\n",
    "B_min, mu_min, B_max, mu_max = phase_diagram_3d_no_orbital_100x100.bounds.lbrt()\n",
    "extent = [B_min, B_max, mu_min, mu_max]\n",
    "\n",
    "(phase_diagram_3d_no_orbital_100x100 +\n",
    " phase_diagram_3d_no_orbital_120x120 +\n",
    " phase_diagram_3d_with_orbital_100x100 +\n",
    " phase_diagram_3d_with_orbital_120x120)"
   ]
  },
  {
   "cell_type": "code",
   "execution_count": null,
   "metadata": {
    "collapsed": false
   },
   "outputs": [],
   "source": [
    "fig = plt.figure()\n",
    "plt.rcParams['figure.figsize'] = (fig_width, fig_height+0.5)\n",
    "plt.rcParams['axes.titlesize'] = 9\n",
    "fig, axs = plt.subplots(2, 2, sharey=True, sharex=True)\n",
    "plt.subplots_adjust(bottom=0.2, left=0.125, right=0.80, top=0.9, hspace=0.33, wspace=0.15)\n",
    "kwargs = dict(extent=extent, cmap='inferno_r', aspect='auto', vmin=0, vmax=1)\n",
    "axs[0][0].imshow(phase_diagram_3d_no_orbital_100x100.data, **kwargs)\n",
    "axs[0][1].imshow(phase_diagram_3d_no_orbital_120x120.data, **kwargs)\n",
    "axs[1][0].imshow(phase_diagram_3d_with_orbital_100x100.data, **kwargs)\n",
    "im = axs[1][1].imshow(phase_diagram_3d_with_orbital_120x120.data, **kwargs)\n",
    "im.set_clim(0, 1)\n",
    "axs[1][0].set_xlabel('$B$ [T]')\n",
    "axs[1][1].set_xlabel('$B$ [T]')\n",
    "axs[0][0].set_ylabel('$\\mu$ [meV]')\n",
    "axs[1][0].set_ylabel('$\\mu$ [meV]')\n",
    "axs[0][0].set_yticks(np.arange(0, 16, 5))\n",
    "\n",
    "\n",
    "axs[0][1].add_patch(patches.Rectangle((0.01 * extent[1], \n",
    "                                      0.02 * (extent[-1] - extent[2])), \n",
    "                                     extent[1] / 1.2**2, \n",
    "                                     extent[-1] / 1.2**2, fill=False))\n",
    "\n",
    "axs[1][1].add_patch(patches.Rectangle((0.01 * extent[1], \n",
    "                                      0.02 * (extent[-1] - extent[2])), \n",
    "                                     extent[1] / 1.2**2, \n",
    "                                     extent[-1] / 1.2**2, fill=False))\n",
    "\n",
    "cax = fig.add_axes([0.83, 0.2, 0.03, 0.7])\n",
    "cb = fig.colorbar(im, cax=cax, label=r'$\\Delta_\\mathrm{spec}/\\Delta$')\n",
    "cb.set_ticks([0.0, 0.2, 0.4, 0.6, 0.8, 1])\n",
    "\n",
    "labels = ['(a)', '(b)', '(c)', '(d)'] \n",
    "titles = [r'no orb, $W=100$ nm', r'no orb, $W=120$ nm', \n",
    "          r'orb, $W=100$ nm', r'orb, $W=120$ nm']\n",
    "\n",
    "for ax, label, title in zip(axs.reshape(-1), labels, titles):\n",
    "    ax.text(.02, 12.5, label, color='white')\n",
    "    ax.set_title(title)\n",
    "\n",
    "fig.savefig('phase_diagrams_3d.pdf', format='pdf', dpi=600)\n",
    "plt.show()"
   ]
  }
 ],
 "metadata": {
  "kernelspec": {
   "display_name": "Python [conda env:python3]",
   "language": "python",
   "name": "conda-env-python3-py"
  },
  "language_info": {
   "codemirror_mode": {
    "name": "ipython",
    "version": 3
   },
   "file_extension": ".py",
   "mimetype": "text/x-python",
   "name": "python",
   "nbconvert_exporter": "python",
   "pygments_lexer": "ipython3",
   "version": "3.5.2"
  }
 },
 "nbformat": 4,
 "nbformat_minor": 0
}
