{
 "cells": [
  {
   "cell_type": "markdown",
   "metadata": {},
   "source": [
    "# Generate data from paper figures"
   ]
  },
  {
   "cell_type": "code",
   "execution_count": null,
   "metadata": {
    "collapsed": false
   },
   "outputs": [],
   "source": [
    "import holoviews as hv\n",
    "import matplotlib.pyplot as plt\n",
    "import os\n",
    "hv.notebook_extension()\n",
    "%matplotlib inline\n",
    "%output fig='svg'\n",
    "%opts Path [aspect='square'] (lw=0.5) Image [aspect='square' colorbar=True] (cmap='inferno_r')\n",
    "os.makedirs('new_data', exist_ok=True) # Create new dir for generated data"
   ]
  },
  {
   "cell_type": "code",
   "execution_count": null,
   "metadata": {
    "collapsed": false
   },
   "outputs": [],
   "source": [
    "try:\n",
    "    # If this can be imported, it assumes you are on the TU Delft network with access to cluster\n",
    "    from hpc05 import Client as Client\n",
    "except ImportError:\n",
    "    print(\"Start your ipcluster in the IPython Clusters tab if you haven't yet!\")\n",
    "    from ipyparallel import Client\n",
    "    \n",
    "client = Client()"
   ]
  },
  {
   "cell_type": "code",
   "execution_count": null,
   "metadata": {
    "collapsed": false
   },
   "outputs": [],
   "source": [
    "dview = client[:]\n",
    "lview = client.load_balanced_view()\n",
    "print('Connected to {} engines.'.format(len(dview)))"
   ]
  },
  {
   "cell_type": "code",
   "execution_count": null,
   "metadata": {
    "collapsed": false
   },
   "outputs": [],
   "source": [
    "%%px --local\n",
    "import sys\n",
    "# The cluster needs to know where shortjunction.py is located.\n",
    "sys.path.append('/home/basnijholt/Dropbox/Work/short_jj_majorana/Code/')\n",
    "sys.path.append('/home/jovyan/work/') # Location for Docker, see README.md\n",
    "import kwant\n",
    "import numpy as np\n",
    "import sympy\n",
    "from shortjunction import (NS_infinite_2D_3D, slowest_evan_mode, find_gap, \n",
    "                           energies_over_delta, make_params, plot_phase,\n",
    "                           plot_decay_lengths,SimpleNamespace, Ez_to_B,\n",
    "                           constants, sparse_eigs, NS_finite, NS_infinite,\n",
    "                           SNS_infinite, s0, sx, sy, sz)"
   ]
  },
  {
   "cell_type": "markdown",
   "metadata": {},
   "source": [
    "# NS infinite\n",
    "Fig. 2"
   ]
  },
  {
   "cell_type": "code",
   "execution_count": null,
   "metadata": {
    "collapsed": false
   },
   "outputs": [],
   "source": [
    "def NS_infinite_spectrum(Ezs, wire_params, p, fname):\n",
    "    \"\"\"Computes the Andreev spectrum of a finite NS-junction\n",
    "    as a function of magnetic field.\n",
    "    \n",
    "    Parameters:\n",
    "    -----------\n",
    "    Ezs : list or numpy.ndarray\n",
    "        Sequence of Zeeman energies at which the spectrum is calculated.\n",
    "    wire_params : dict\n",
    "        Dictionary containing the parameters used to create the Kwant system.\n",
    "    p : SimpleNamespace object\n",
    "        A simple container that is used to store Hamiltonian parameters.\n",
    "    fname : str\n",
    "        Filename of the data to be stored.\n",
    "        \n",
    "    Returns:\n",
    "    --------\n",
    "    energies : numpy.array\n",
    "        Array containing the energies over the superconducting gap.\n",
    "    \"\"\"\n",
    "    dview['wire_params'] = wire_params\n",
    "    %px syst = NS_infinite(**wire_params)\n",
    "    energies = lview.map_async(lambda Ez: energies_over_delta(syst, p.update(Ez=Ez), k_x=0), Ezs)\n",
    "    energies.wait_interactive()\n",
    "    energies = np.array(energies.result()).reshape(-1, 2)    \n",
    "    np.savetxt(fname, energies)\n",
    "    return energies\n",
    "\n",
    "p = SimpleNamespace(Ez=None, delta=0.25, alpha=20, t=constants.t,\n",
    "                    tpar=0.1*constants.t, mu=3, kx=0)\n",
    "\n",
    "wire_params = dict(a=0.5, L=200)\n",
    "Ezs = np.linspace(1e-3, 2.5, 200)\n",
    "energies = NS_infinite_spectrum(Ezs, wire_params, p, fname='new_data/NS_infinite.npz')"
   ]
  },
  {
   "cell_type": "code",
   "execution_count": null,
   "metadata": {
    "collapsed": false
   },
   "outputs": [],
   "source": [
    "%matplotlib inline\n",
    "plt.figure(figsize=(8, 7))\n",
    "plt.xlabel(r'$B$ (meV)')\n",
    "plt.ylabel(r'$E / \\Delta$')\n",
    "plt.plot(Ezs, energies, 'b-', lw=2.)\n",
    "plt.grid()\n",
    "plt.show()"
   ]
  },
  {
   "cell_type": "markdown",
   "metadata": {},
   "source": [
    "# 2D decay lengths\n",
    "Fig. 6\n",
    "\n",
    "Note that this calculates the phase diagram on a lower resolution than in the paper."
   ]
  },
  {
   "cell_type": "code",
   "execution_count": null,
   "metadata": {
    "collapsed": false
   },
   "outputs": [],
   "source": [
    "%%opts Image (clims=(0, 4000))\n",
    "p = SimpleNamespace(mu_sc=8, orbital=False, Delta=0.25, alpha=20, B_y=0, B_z=0,\n",
    "                    mu_B=constants.mu_B, t=constants.t, g=constants.g)\n",
    "\n",
    "Bs = np.linspace(0, 5, 200)\n",
    "mus = np.linspace(1, 10, 200)\n",
    "\n",
    "decay_length_2d = plot_decay_lengths(dview, lview, p, W=100, H=None,\n",
    "                                     Bs=Bs, mus=mus, dim=2, async_parallel=False)\n",
    "hv.Store.dump(decay_length_2d,\n",
    "              open('new_data/decay_length_2d.h', 'wb'))\n",
    "decay_length_2d"
   ]
  },
  {
   "cell_type": "markdown",
   "metadata": {},
   "source": [
    "# NS finite\n",
    "Fig. 8\n",
    "\n",
    "Takes ~10 minutes on 140 cores with current parameters.\n"
   ]
  },
  {
   "cell_type": "code",
   "execution_count": null,
   "metadata": {
    "collapsed": false
   },
   "outputs": [],
   "source": [
    "def NS_finite_spectrum(Ezs, wire_params, p, fname):\n",
    "    \"\"\"Computes the spectrum of a finite NS-junction\n",
    "    as a function of magnetic field.\n",
    "    \n",
    "    Parameters:\n",
    "    -----------\n",
    "    Ezs : list or numpy.ndarray\n",
    "        Sequence of Zeeman energies at which the spectrum is calculated.\n",
    "    wire_params : dict\n",
    "        Dictionary containing the parameters used to create the Kwant system.\n",
    "    p : SimpleNamespace object\n",
    "        A simple container that is used to store Hamiltonian parameters.\n",
    "    fname : str\n",
    "        Filename of the data to be stored.\n",
    "        \n",
    "    Returns:\n",
    "    --------\n",
    "    energies : numpy.array\n",
    "        Array containing the energies over the superconducting gap.\n",
    "    \"\"\"\n",
    "    dview['wire_params'] = wire_params\n",
    "    %px syst = NS_finite(**wire_params)\n",
    "    energies = lview.map_async(lambda Ez: sparse_eigs(syst.hamiltonian_submatrix(\n",
    "        sparse=True, args=[p.update(Ez=Ez)]), n_eigs=20, n_vec_lanczos=100), Ezs)\n",
    "    energies.wait_interactive()\n",
    "    energies = np.array(energies.result())\n",
    "    np.savetxt(fname, energies / p.delta)\n",
    "    return energies / p.delta\n",
    "\n",
    "\n",
    "p = SimpleNamespace(Ez=None, delta=0.25, alpha=20, mu=3,\n",
    "                    t=constants.t, tpar=0.1*constants.t)\n",
    "\n",
    "wire_params = dict(a=10, L=300, W=10, W_sc=140)\n",
    "Ezs = np.linspace(0, 8, 250)\n",
    "energies = NS_finite_spectrum(Ezs, wire_params, p, fname='new_data/NS_finite.npz')"
   ]
  },
  {
   "cell_type": "code",
   "execution_count": null,
   "metadata": {
    "collapsed": false
   },
   "outputs": [],
   "source": [
    "plt.figure(figsize=(8, 7))\n",
    "plt.plot(Ez_to_B(Ezs), energies, 'ro', ms=2.5, mec='None')\n",
    "plt.xlabel(r'$B$ (meV)')\n",
    "plt.ylabel(r'$E / \\Delta$')\n",
    "plt.ylim(0, 1)\n",
    "plt.show()"
   ]
  },
  {
   "cell_type": "markdown",
   "metadata": {},
   "source": [
    "# SNS infinite\n",
    "Fig. 10"
   ]
  },
  {
   "cell_type": "code",
   "execution_count": null,
   "metadata": {
    "collapsed": false
   },
   "outputs": [],
   "source": [
    "def SNS_infinite_spectrum(Bs, wire_params, p, fname):\n",
    "    \"\"\"Computes the spectrum of a 2D SNS-junction\n",
    "    as a function of magnetic field.\n",
    "    \n",
    "    Parameters:\n",
    "    -----------\n",
    "    Bs : list or numpy.ndarray\n",
    "        Sequence of Zeeman energies at which the spectrum is calculated.\n",
    "    wire_params : dict\n",
    "        Dictionary containing the parameters used to create the Kwant system.\n",
    "    p : SimpleNamespace object\n",
    "        A simple container that is used to store Hamiltonian parameters.\n",
    "    fname : str\n",
    "        Filename of the data to be stored.\n",
    "        \n",
    "    Returns:\n",
    "    --------\n",
    "    energies : numpy.array\n",
    "        Array containing the energies over the superconducting gap.\n",
    "    \"\"\"\n",
    "    dview['wire_params'] = wire_params\n",
    "    %px syst = SNS_infinite(**wire_params)\n",
    "    energies = lview.map_async(lambda B: sparse_eigs(syst.hamiltonian_submatrix(\n",
    "                sparse=True, args=[p.update(B=B), 0]), n_eigs=4, n_vec_lanczos=200), Bs)\n",
    "    energies.wait_interactive()\n",
    "    energies = np.array(energies.result())\n",
    "    energies = np.array([np.min(np.abs(energies), axis=1),\n",
    "                         np.max(np.abs(energies), axis=1)]) / p.delta\n",
    "    np.savetxt(fname, energies)\n",
    "    return energies\n",
    "\n",
    "\n",
    "p = SimpleNamespace(B=0, delta=0.25, alpha=20, t=constants.t, tpar=constants.t, mu=3, D=200)\n",
    "wire_params = dict(L=6000, W_sm=200, a=0.5)\n",
    "Bs = np.linspace(0, 1.5, 140)\n",
    "energies = SNS_infinite_spectrum(Bs, wire_params, p, 'new_data/SNS_infinite.npz')"
   ]
  },
  {
   "cell_type": "code",
   "execution_count": null,
   "metadata": {
    "collapsed": false
   },
   "outputs": [],
   "source": [
    "%matplotlib inline\n",
    "plt.figure(figsize=(8, 7))\n",
    "plt.plot(Bs, energies[0], '-ro', ms=4.5)\n",
    "plt.plot(Bs, energies[1], '-ro', ms=4.5)\n",
    "plt.xlabel(r'$B$ (T)')\n",
    "plt.ylabel(r'$E / \\Delta$')\n",
    "plt.ylim(0, 1)\n",
    "plt.xlim(0, max(Bs))\n",
    "plt.grid()\n",
    "plt.show()"
   ]
  },
  {
   "cell_type": "markdown",
   "metadata": {},
   "source": [
    "# 3D phase diagram\n",
    "Fig. 11\n",
    "\n",
    "Note that this calculates the phase diagram on a lower resolution than in the paper."
   ]
  },
  {
   "cell_type": "code",
   "execution_count": null,
   "metadata": {
    "collapsed": false
   },
   "outputs": [],
   "source": [
    "# Set the resolution of the plot in `kwargs`. Read the doc-strings of `plot_phase`.\n",
    "kwargs = dict(dim=3, num_k=201, Bs=np.linspace(0, 1, 50), mus=np.linspace(0.1, 15, 50), async_parallel=True)\n",
    "p = SimpleNamespace(mu_sc=8, Delta=0.25, alpha=20, B_y=0, B_z=0,\n",
    "                    mu_B=constants.mu_B, t=constants.t, g=constants.g)"
   ]
  },
  {
   "cell_type": "code",
   "execution_count": null,
   "metadata": {
    "collapsed": false,
    "scrolled": false
   },
   "outputs": [],
   "source": [
    "p.orbital = False\n",
    "phase_diagram_3d_no_orbital_100x100 = plot_phase(\n",
    "    dview, lview, p, W=100, H=100,\n",
    "    **kwargs).relabel('3D no orbital, $H=100, W=100, \\mu_{sc}=\\mu_{sm}$')\n",
    "hv.Store.dump(phase_diagram_3d_no_orbital_100x100,\n",
    "              open('new_data/phase_diagram_3d_no_orbital_100x100.h', 'wb'))\n",
    "phase_diagram_3d_no_orbital_100x100"
   ]
  },
  {
   "cell_type": "code",
   "execution_count": null,
   "metadata": {
    "collapsed": false
   },
   "outputs": [],
   "source": [
    "p.orbital = False\n",
    "phase_diagram_3d_no_orbital_120x120 = plot_phase(\n",
    "    dview, lview, p, W=120, H=120,\n",
    "    **kwargs).relabel('3D no orbital, $H=120, W=120, \\mu_{sc}=\\mu_{sm}$')\n",
    "hv.Store.dump(phase_diagram_3d_no_orbital_120x120,\n",
    "              open('new_data/phase_diagram_3d_no_orbital_120x120.h', 'wb'))\n",
    "phase_diagram_3d_no_orbital_120x120"
   ]
  },
  {
   "cell_type": "code",
   "execution_count": null,
   "metadata": {
    "collapsed": false
   },
   "outputs": [],
   "source": [
    "p.orbital = True\n",
    "phase_diagram_3d_with_orbital_100x100 = plot_phase(\n",
    "    dview, lview, p, W=100, H=100,\n",
    "    **kwargs).relabel('3D with orbital, $H=100, W=100, \\mu_{sc}=\\mu_{sm}$')\n",
    "hv.Store.dump(phase_diagram_3d_with_orbital_100x100,\n",
    "              open('new_data/phase_diagram_3d_with_orbital_100x100.h', 'wb'))\n",
    "phase_diagram_3d_with_orbital_100x100"
   ]
  },
  {
   "cell_type": "code",
   "execution_count": null,
   "metadata": {
    "collapsed": false
   },
   "outputs": [],
   "source": [
    "p.orbital = True\n",
    "phase_diagram_3d_with_orbital_120x120 = plot_phase(\n",
    "    dview, lview, p, W=120, H=120, **kwargs).relabel('3D with orbital, $H=120, W=120, \\mu_{sc}=\\mu_{sm}$')\n",
    "\n",
    "hv.Store.dump(phase_diagram_3d_with_orbital_120x120,\n",
    "              open('new_data/phase_diagram_3d_with_orbital_120x120.h', 'wb'))\n",
    "phase_diagram_3d_with_orbital_120x120"
   ]
  }
 ],
 "metadata": {
  "kernelspec": {
   "display_name": "Python 3",
   "language": "python",
   "name": "python3"
  },
  "language_info": {
   "codemirror_mode": {
    "name": "ipython",
    "version": 3
   },
   "file_extension": ".py",
   "mimetype": "text/x-python",
   "name": "python",
   "nbconvert_exporter": "python",
   "pygments_lexer": "ipython3",
   "version": "3.5.2"
  }
 },
 "nbformat": 4,
 "nbformat_minor": 0
}
